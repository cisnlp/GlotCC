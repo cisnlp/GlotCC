{
 "cells": [
  {
   "cell_type": "code",
   "execution_count": null,
   "metadata": {},
   "outputs": [],
   "source": [
    "import os\n",
    "import pandas as pd\n",
    "import json\n",
    "import duckdb"
   ]
  },
  {
   "cell_type": "code",
   "execution_count": null,
   "metadata": {},
   "outputs": [],
   "source": [
    "# Define the main directory\n",
    "main_dir = 'v1.0'\n",
    "output_dir = 'v1.0-stat-2'"
   ]
  },
  {
   "cell_type": "code",
   "execution_count": null,
   "metadata": {},
   "outputs": [],
   "source": [
    "# Ensure the output directory exists\n",
    "os.makedirs(output_dir, exist_ok=True)"
   ]
  },
  {
   "cell_type": "code",
   "execution_count": null,
   "metadata": {},
   "outputs": [],
   "source": [
    "import duckdb\n",
    "import os\n",
    "import json\n",
    "\n",
    "def process_parquet(file_path):\n",
    "    # Connect to an in-memory DuckDB instance\n",
    "    con = duckdb.connect()\n",
    "\n",
    "    # Load the Parquet file into a DuckDB relation\n",
    "    con.execute(f\"CREATE TABLE parquet_table AS SELECT * FROM '{file_path}'\")\n",
    "\n",
    "    # Calculate the number of records\n",
    "    num_records = con.execute(\"SELECT COUNT(*) FROM parquet_table\").fetchone()[0]\n",
    "\n",
    "    # Add a new column 'num-words'\n",
    "    con.execute(\"ALTER TABLE parquet_table ADD COLUMN num_words INT\")\n",
    "    con.execute(\"UPDATE parquet_table SET num_words = array_length(str_split_regex(content, '\\\\s+'), 1)\")\n",
    "\n",
    "    # Select the relevant columns and calculate the summations\n",
    "    query = \"\"\"\n",
    "    SELECT\n",
    "        SUM(\"content-length\") AS total_content_length_sum,\n",
    "        SUM(\"num-sents\") AS num_sents_sum,\n",
    "        SUM(num_words) AS num_words_sum,\n",
    "        SUM(CASE WHEN 'religious' = ANY(categories) OR 'associations_religieuses' = ANY(categories) THEN 1 ELSE 0 END) AS count_religious,\n",
    "        SUM(CASE WHEN 'wikipedia' = ANY(categories) THEN 1 ELSE 0 END) AS count_wikipedia\n",
    "    FROM parquet_table\n",
    "    \"\"\"\n",
    "    result = con.execute(query).fetchone()\n",
    "\n",
    "    # Create a result dictionary\n",
    "    result_dict = {\n",
    "        'file_path': file_path,\n",
    "        'num_records': str(num_records),\n",
    "        'total_content_length_sum': str(result[0]),\n",
    "        'num_sents_sum': str(result[1]),\n",
    "        'num_words_sum': str(result[2]),\n",
    "        'religious_num_records': str(result[3]),\n",
    "        'wikipedia_num_records': str(result[4])\n",
    "    }\n",
    "\n",
    "    # Define output path\n",
    "    relative_path = os.path.relpath(file_path, main_dir)\n",
    "    output_path = os.path.join(output_dir, relative_path + '.json')\n",
    "\n",
    "    # Ensure the output directory exists\n",
    "    os.makedirs(os.path.dirname(output_path), exist_ok=True)\n",
    "\n",
    "    # Save the result to a JSON file\n",
    "    with open(output_path, 'w') as f:\n",
    "        json.dump(result_dict, f, indent=4)\n",
    "\n",
    "    return None\n"
   ]
  },
  {
   "cell_type": "code",
   "execution_count": null,
   "metadata": {},
   "outputs": [],
   "source": [
    "# Collect all parquet files\n",
    "parquet_files = []\n",
    "for root, dirs, files in os.walk(main_dir):\n",
    "    for file in files:\n",
    "        if file.endswith('.parquet'):\n",
    "            file_path = os.path.join(root, file)\n",
    "            parquet_files.append(file_path)\n",
    "            \n",
    "parquet_files.sort(key=os.path.getsize)"
   ]
  },
  {
   "cell_type": "code",
   "execution_count": null,
   "metadata": {},
   "outputs": [],
   "source": [
    "from tqdm import tqdm\n",
    "\n",
    "for file_path in tqdm(parquet_files):\n",
    "    process_parquet(file_path)\n",
    "\n"
   ]
  },
  {
   "cell_type": "code",
   "execution_count": null,
   "metadata": {},
   "outputs": [],
   "source": [
    "! zip -r v1.0-stat-2.zip v1.0-stat-2/*"
   ]
  },
  {
   "cell_type": "code",
   "execution_count": null,
   "metadata": {},
   "outputs": [],
   "source": []
  }
 ],
 "metadata": {
  "kernelspec": {
   "display_name": "lid",
   "language": "python",
   "name": "lid"
  },
  "language_info": {
   "codemirror_mode": {
    "name": "ipython",
    "version": 3
   },
   "file_extension": ".py",
   "mimetype": "text/x-python",
   "name": "python",
   "nbconvert_exporter": "python",
   "pygments_lexer": "ipython3",
   "version": "3.8.16"
  }
 },
 "nbformat": 4,
 "nbformat_minor": 5
}
